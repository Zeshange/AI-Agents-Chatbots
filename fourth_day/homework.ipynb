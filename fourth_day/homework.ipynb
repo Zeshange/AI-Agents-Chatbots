{
 "cells": [
  {
   "cell_type": "markdown",
   "id": "f18ed199",
   "metadata": {},
   "source": [
    "Task 5: PyPI Libraries"
   ]
  },
  {
   "cell_type": "markdown",
   "id": "8bf265ee",
   "metadata": {},
   "source": [
    " 1.emoji"
   ]
  },
  {
   "cell_type": "markdown",
   "id": "d2046a10",
   "metadata": {},
   "source": [
    " Install: pip install emoji\n",
    " Task: Print a string with emojis, e.g., \"Hello World \n",
    "�\n",
    "�\n",
    " \"\n",
    " using the library"
   ]
  },
  {
   "cell_type": "code",
   "execution_count": 1,
   "id": "d561ceae",
   "metadata": {},
   "outputs": [
    {
     "name": "stdout",
     "output_type": "stream",
     "text": [
      "Collecting emoji\n",
      "  Downloading emoji-2.14.1-py3-none-any.whl.metadata (5.7 kB)\n",
      "Downloading emoji-2.14.1-py3-none-any.whl (590 kB)\n",
      "   ---------------------------------------- 0.0/590.6 kB ? eta -:--:--\n",
      "   ---------------------------------------- 0.0/590.6 kB ? eta -:--:--\n",
      "   ----------------- ---------------------- 262.1/590.6 kB ? eta -:--:--\n",
      "   ----------------- ---------------------- 262.1/590.6 kB ? eta -:--:--\n",
      "   ---------------------------------------- 590.6/590.6 kB 780.2 kB/s  0:00:00\n",
      "Installing collected packages: emoji\n",
      "Successfully installed emoji-2.14.1\n",
      "Note: you may need to restart the kernel to use updated packages.\n"
     ]
    }
   ],
   "source": [
    "pip install emoji\n"
   ]
  },
  {
   "cell_type": "code",
   "execution_count": 19,
   "id": "458f04b0",
   "metadata": {},
   "outputs": [
    {
     "name": "stdout",
     "output_type": "stream",
     "text": [
      "Hello World 🌍\n"
     ]
    }
   ],
   "source": [
    "import emoji\n",
    "\n",
    "# Using the emoji library to add emojis\n",
    "text = emoji.emojize(\"Hello World :globe_showing_Europe-Africa:\")\n",
    "print(text)\n"
   ]
  },
  {
   "cell_type": "code",
   "execution_count": 17,
   "id": "72b39e48",
   "metadata": {},
   "outputs": [
    {
     "name": "stdout",
     "output_type": "stream",
     "text": [
      "smile → 😄\n",
      "grinning → 😀\n",
      "laughing → 😆\n",
      "wink → 😉\n",
      "heart_eyes → 😍\n",
      "sunglasses → 😎\n",
      "thinking → 🤔\n",
      "cry → 😢\n",
      "angry → 😠\n",
      "thumbs_up → 👍\n",
      "thumbs_down → 👎\n",
      "clap → 👏\n",
      "fire → 🔥\n",
      "star → ⭐\n",
      "rocket → 🚀\n",
      "snake → 🐍\n",
      "white_check_mark → ✅\n",
      "x → ❌\n",
      "warning → ⚠️\n",
      "tada → 🎉\n",
      "balloon → 🎈\n",
      "gift → 🎁\n",
      "books → 📚\n",
      "pencil2 → ✏️\n",
      "computer → 💻\n",
      "iphone → 📱\n",
      "camera → 📷\n",
      "bulb → 💡\n",
      "mag → 🔍\n",
      "calendar → 📆\n",
      "alarm_clock → ⏰\n",
      "moneybag → 💰\n",
      "shopping_cart → 🛒\n",
      "credit_card → 💳\n",
      "house → 🏠\n",
      "office → 🏢\n",
      "hospital → 🏥\n",
      "school → 🏫\n",
      "factory → 🏭\n",
      "earth_americas → 🌎\n",
      "sunny → ☀️\n",
      "moon → 🌔\n",
      "cloud → ☁️\n",
      "umbrella → ☔\n",
      "snowflake → ❄️\n",
      "deciduous_tree → 🌳\n",
      "rose → 🌹\n",
      "fallen_leaf → 🍂\n",
      "apple → 🍎\n",
      "banana → 🍌\n",
      "grapes → 🍇\n",
      "pizza → 🍕\n",
      "hamburger → 🍔\n",
      "fries → 🍟\n",
      "cake → 🍰\n",
      "coffee → ☕\n",
      "tea → 🍵\n",
      "potable_water → 🚰\n",
      "beer → 🍺\n",
      "wine_glass → 🍷\n",
      "poultry_leg → 🍗\n",
      "fish → 🐟\n",
      "egg → 🍳\n",
      "soccer → ⚽\n",
      "basketball → 🏀\n",
      "cricket_game → 🏏\n",
      "badminton → 🏸\n",
      "trophy → 🏆\n",
      "medal_sports → 🏅\n",
      "car → 🚗\n",
      "bus → 🚌\n",
      "train → 🚋\n",
      "airplane → ✈️\n",
      "ship → 🚢\n",
      "bicycle → 🚲\n",
      "motorcycle → 🏍️\n",
      "ambulance → 🚑\n",
      "police_car → 🚓\n",
      "baby → 👶\n",
      "boy → 👦\n",
      "girl → 👧\n",
      "man → 👨\n",
      "woman → 👩\n",
      "family → 👪\n",
      "teacher → 🧑‍🏫\n",
      "doctor → :doctor:\n",
      "chef → :chef:\n",
      "artist → 🧑‍🎨\n",
      "student → 🧑‍🎓\n",
      "construction_worker → 👷\n",
      "scientist → 🧑‍🔬\n",
      "pilot → 🧑‍✈️\n",
      "pray → 🙏\n",
      "muscle → 💪\n",
      "peace_symbol → ☮️\n",
      "heart → ❤️\n",
      "broken_heart → 💔\n",
      "kiss → 💋\n",
      "hugging_face → 🤗\n",
      "ok_hand → 👌\n",
      "v → ✌️\n",
      "infinity → ♾️\n"
     ]
    }
   ],
   "source": [
    "\n",
    "import emoji\n",
    "\n",
    "emoji_names = [\n",
    "    \"smile\", \"grinning\", \"laughing\", \"wink\", \"heart_eyes\",\n",
    "    \"sunglasses\", \"thinking\", \"cry\", \"angry\", \"thumbs_up\",\n",
    "    \"thumbs_down\", \"clap\", \"fire\", \"star\", \"rocket\",\n",
    "    \"snake\", \"white_check_mark\", \"x\", \"warning\", \"tada\",\n",
    "    \"balloon\", \"gift\", \"books\", \"pencil2\", \"computer\",\n",
    "    \"iphone\", \"camera\", \"bulb\", \"mag\", \"calendar\",\n",
    "    \"alarm_clock\", \"moneybag\", \"shopping_cart\", \"credit_card\",\n",
    "    \"house\", \"office\", \"hospital\", \"school\", \"factory\",\n",
    "    \"earth_americas\", \"sunny\", \"moon\", \"cloud\", \"umbrella\",\n",
    "    \"snowflake\", \"deciduous_tree\", \"rose\", \"fallen_leaf\",\n",
    "    \"apple\", \"banana\", \"grapes\", \"pizza\", \"hamburger\",\n",
    "    \"fries\", \"cake\", \"coffee\", \"tea\", \"potable_water\",\n",
    "    \"beer\", \"wine_glass\", \"poultry_leg\", \"fish\", \"egg\",\n",
    "    \"soccer\", \"basketball\", \"cricket_game\", \"badminton\",\n",
    "    \"trophy\", \"medal_sports\", \"car\", \"bus\", \"train\",\n",
    "    \"airplane\", \"ship\", \"bicycle\", \"motorcycle\", \"ambulance\",\n",
    "    \"police_car\", \"baby\", \"boy\", \"girl\", \"man\",\n",
    "    \"woman\", \"family\", \"teacher\", \"doctor\", \"chef\",\n",
    "    \"artist\", \"student\", \"construction_worker\", \"scientist\",\n",
    "    \"pilot\", \"pray\", \"muscle\", \"peace_symbol\", \"heart\",\n",
    "    \"broken_heart\", \"kiss\", \"hugging_face\", \"ok_hand\",\n",
    "    \"v\", \"infinity\"\n",
    "]\n",
    "\n",
    "for name in emoji_names:\n",
    "    emj = emoji.emojize(f\":{name}:\", language=\"alias\")\n",
    "    print(f\"{name} → {emj}\")\n",
    "\n"
   ]
  },
  {
   "cell_type": "markdown",
   "id": "23bfe6ee",
   "metadata": {},
   "source": [
    " 2.pyfiglet"
   ]
  },
  {
   "cell_type": "markdown",
   "id": "40be83cc",
   "metadata": {},
   "source": [
    " Install: pip install pyfiglet\n",
    " Task: Convert normal text into ASCII art text (e.g.,\n",
    " “Python” in big fancy letters)"
   ]
  },
  {
   "cell_type": "code",
   "execution_count": 3,
   "id": "d8f951b0",
   "metadata": {},
   "outputs": [
    {
     "name": "stdout",
     "output_type": "stream",
     "text": [
      "Collecting pyfiglet\n",
      "  Downloading pyfiglet-1.0.4-py3-none-any.whl.metadata (7.4 kB)\n",
      "Downloading pyfiglet-1.0.4-py3-none-any.whl (1.8 MB)\n",
      "   ---------------------------------------- 0.0/1.8 MB ? eta -:--:--\n",
      "   ---------------------------------------- 0.0/1.8 MB ? eta -:--:--\n",
      "   ----- ---------------------------------- 0.3/1.8 MB ? eta -:--:--\n",
      "   ----- ---------------------------------- 0.3/1.8 MB ? eta -:--:--\n",
      "   ----------- ---------------------------- 0.5/1.8 MB 762.0 kB/s eta 0:00:02\n",
      "   ----------------- ---------------------- 0.8/1.8 MB 762.0 kB/s eta 0:00:02\n",
      "   ----------------- ---------------------- 0.8/1.8 MB 762.0 kB/s eta 0:00:02\n",
      "   ----------------------- ---------------- 1.0/1.8 MB 762.0 kB/s eta 0:00:01\n",
      "   ----------------------- ---------------- 1.0/1.8 MB 762.0 kB/s eta 0:00:01\n",
      "   ----------------------------- ---------- 1.3/1.8 MB 762.6 kB/s eta 0:00:01\n",
      "   ---------------------------------- ----- 1.6/1.8 MB 762.5 kB/s eta 0:00:01\n",
      "   ---------------------------------- ----- 1.6/1.8 MB 762.5 kB/s eta 0:00:01\n",
      "   ---------------------------------------- 1.8/1.8 MB 765.9 kB/s  0:00:02\n",
      "Installing collected packages: pyfiglet\n",
      "Successfully installed pyfiglet-1.0.4\n",
      "Note: you may need to restart the kernel to use updated packages.\n"
     ]
    }
   ],
   "source": [
    "pip install pyfiglet\n"
   ]
  },
  {
   "cell_type": "code",
   "execution_count": null,
   "id": "abaaf4a3",
   "metadata": {},
   "outputs": [
    {
     "name": "stdout",
     "output_type": "stream",
     "text": [
      " ____        _   _                 \n",
      "|  _ \\ _   _| |_| |__   ___  _ __  \n",
      "| |_) | | | | __| '_ \\ / _ \\| '_ \\ \n",
      "|  __/| |_| | |_| | | | (_) | | | |\n",
      "|_|    \\__, |\\__|_| |_|\\___/|_| |_|\n",
      "       |___/                       \n",
      "\n"
     ]
    }
   ],
   "source": [
    "import pyfiglet\n",
    "\n",
    "# Convert text to ASCII art  default fount formate\n",
    "ascii_art = pyfiglet.figlet_format(\"Python\")\n",
    "print(ascii_art)\n"
   ]
  },
  {
   "cell_type": "markdown",
   "id": "c7623b98",
   "metadata": {},
   "source": [
    " 3.colorama"
   ]
  },
  {
   "cell_type": "markdown",
   "id": "5c948d40",
   "metadata": {},
   "source": [
    " Install: pip install colorama\n",
    " Task: Print text in different colors (red, green, yellow)\n",
    " in the terminal."
   ]
  },
  {
   "cell_type": "code",
   "execution_count": 2,
   "id": "4d63c6b5",
   "metadata": {},
   "outputs": [
    {
     "name": "stdout",
     "output_type": "stream",
     "text": [
      "Requirement already satisfied: colorama in c:\\users\\imran nasir\\appdata\\local\\programs\\python\\python311\\lib\\site-packages (0.4.6)\n",
      "\u001b[31msome red text\n",
      "\u001b[43mand with a green background\n",
      "\u001b[2mand in dim text\n",
      "\u001b[0m\n",
      "back to normal now\n"
     ]
    }
   ],
   "source": [
    "!pip install colorama\n",
    "\n",
    "from colorama import Fore, Back, Style\n",
    "print(Fore.RED + 'some red text')\n",
    "print(Back.YELLOW + 'and with a YELLOW background')\n",
    "print(Style.DIM + 'and in dim text')\n",
    "print(Style.RESET_ALL)\n",
    "print('back to normal now')"
   ]
  },
  {
   "cell_type": "code",
   "execution_count": 3,
   "id": "4bc38a16",
   "metadata": {},
   "outputs": [
    {
     "name": "stdout",
     "output_type": "stream",
     "text": [
      "Requirement already satisfied: tqdm in c:\\users\\imran nasir\\appdata\\local\\programs\\python\\python311\\lib\\site-packages (4.67.1)\n",
      "Requirement already satisfied: colorama in c:\\users\\imran nasir\\appdata\\local\\programs\\python\\python311\\lib\\site-packages (from tqdm) (0.4.6)\n"
     ]
    }
   ],
   "source": [
    "!pip install tqdm"
   ]
  },
  {
   "cell_type": "code",
   "execution_count": 7,
   "id": "04f26fee",
   "metadata": {},
   "outputs": [
    {
     "name": "stderr",
     "output_type": "stream",
     "text": [
      "100%|██████████| 4/4 [00:02<00:00,  1.99it/s]\n"
     ]
    }
   ],
   "source": [
    "from tqdm import tqdm\n",
    "from time import sleep\n",
    "\n",
    "text = \"\"\n",
    "for char in tqdm([\"a\", \"b\", \"c\", \"d\"]):\n",
    "    sleep(0.50)\n",
    "    text = text + char"
   ]
  },
  {
   "cell_type": "code",
   "execution_count": 8,
   "id": "77c43b87",
   "metadata": {},
   "outputs": [
    {
     "name": "stdout",
     "output_type": "stream",
     "text": [
      "Collecting moment\n",
      "  Downloading moment-0.12.1-py3-none-any.whl.metadata (711 bytes)\n",
      "Collecting dateparser>=0.7 (from moment)\n",
      "  Downloading dateparser-1.2.2-py3-none-any.whl.metadata (29 kB)\n",
      "Requirement already satisfied: pytz>=2018.9 in c:\\users\\imran nasir\\appdata\\local\\programs\\python\\python311\\lib\\site-packages (from moment) (2025.2)\n",
      "Collecting times>=0.7 (from moment)\n",
      "  Downloading times-0.7-py2.py3-none-any.whl.metadata (2.0 kB)\n",
      "Requirement already satisfied: python-dateutil>=2.7.0 in c:\\users\\imran nasir\\appdata\\local\\programs\\python\\python311\\lib\\site-packages (from dateparser>=0.7->moment) (2.9.0.post0)\n",
      "Requirement already satisfied: regex>=2024.9.11 in c:\\users\\imran nasir\\appdata\\local\\programs\\python\\python311\\lib\\site-packages (from dateparser>=0.7->moment) (2025.7.34)\n",
      "Collecting tzlocal>=0.2 (from dateparser>=0.7->moment)\n",
      "  Downloading tzlocal-5.3.1-py3-none-any.whl.metadata (7.6 kB)\n",
      "Requirement already satisfied: six>=1.5 in c:\\users\\imran nasir\\appdata\\local\\programs\\python\\python311\\lib\\site-packages (from python-dateutil>=2.7.0->dateparser>=0.7->moment) (1.17.0)\n",
      "Collecting arrow (from times>=0.7->moment)\n",
      "  Downloading arrow-1.3.0-py3-none-any.whl.metadata (7.5 kB)\n",
      "Requirement already satisfied: tzdata in c:\\users\\imran nasir\\appdata\\local\\programs\\python\\python311\\lib\\site-packages (from tzlocal>=0.2->dateparser>=0.7->moment) (2025.2)\n",
      "Collecting types-python-dateutil>=2.8.10 (from arrow->times>=0.7->moment)\n",
      "  Downloading types_python_dateutil-2.9.0.20250822-py3-none-any.whl.metadata (1.8 kB)\n",
      "Downloading moment-0.12.1-py3-none-any.whl (6.4 kB)\n",
      "Downloading dateparser-1.2.2-py3-none-any.whl (315 kB)\n",
      "Downloading times-0.7-py2.py3-none-any.whl (3.8 kB)\n",
      "Downloading tzlocal-5.3.1-py3-none-any.whl (18 kB)\n",
      "Downloading arrow-1.3.0-py3-none-any.whl (66 kB)\n",
      "Downloading types_python_dateutil-2.9.0.20250822-py3-none-any.whl (17 kB)\n",
      "Installing collected packages: tzlocal, types-python-dateutil, dateparser, arrow, times, moment\n",
      "\n",
      "   ---------------------------------------- 0/6 [tzlocal]\n",
      "   ------------- -------------------------- 2/6 [dateparser]\n",
      "   ------------- -------------------------- 2/6 [dateparser]\n",
      "   ------------- -------------------------- 2/6 [dateparser]\n",
      "   ------------- -------------------------- 2/6 [dateparser]\n",
      "   ------------- -------------------------- 2/6 [dateparser]\n",
      "   ------------- -------------------------- 2/6 [dateparser]\n",
      "   ------------- -------------------------- 2/6 [dateparser]\n",
      "   ------------- -------------------------- 2/6 [dateparser]\n",
      "   ------------- -------------------------- 2/6 [dateparser]\n",
      "   ------------- -------------------------- 2/6 [dateparser]\n",
      "   ------------- -------------------------- 2/6 [dateparser]\n",
      "   ------------- -------------------------- 2/6 [dateparser]\n",
      "   ------------- -------------------------- 2/6 [dateparser]\n",
      "   ------------- -------------------------- 2/6 [dateparser]\n",
      "   ------------- -------------------------- 2/6 [dateparser]\n",
      "   ------------- -------------------------- 2/6 [dateparser]\n",
      "   ------------- -------------------------- 2/6 [dateparser]\n",
      "   ------------- -------------------------- 2/6 [dateparser]\n",
      "   ------------- -------------------------- 2/6 [dateparser]\n",
      "   ------------- -------------------------- 2/6 [dateparser]\n",
      "   ------------- -------------------------- 2/6 [dateparser]\n",
      "   ------------- -------------------------- 2/6 [dateparser]\n",
      "   ------------- -------------------------- 2/6 [dateparser]\n",
      "   ------------- -------------------------- 2/6 [dateparser]\n",
      "   ------------- -------------------------- 2/6 [dateparser]\n",
      "   -------------------- ------------------- 3/6 [arrow]\n",
      "   --------------------------------- ------ 5/6 [moment]\n",
      "   ---------------------------------------- 6/6 [moment]\n",
      "\n",
      "Successfully installed arrow-1.3.0 dateparser-1.2.2 moment-0.12.1 times-0.7 types-python-dateutil-2.9.0.20250822 tzlocal-5.3.1\n"
     ]
    }
   ],
   "source": [
    "!pip install moment"
   ]
  },
  {
   "cell_type": "code",
   "execution_count": 13,
   "id": "1ce22357",
   "metadata": {},
   "outputs": [
    {
     "name": "stdout",
     "output_type": "stream",
     "text": [
      "2025-09-07T08:46:53+05.00\n",
      "2025-09-07\n",
      "07-09-2025\n"
     ]
    }
   ],
   "source": [
    "import moment\n",
    "now=moment.now()\n",
    "print(now)\n",
    "print(now.format('YYYY-MM-DD'))\n",
    "print(now.format('DD-MM-YYYY'))"
   ]
  },
  {
   "cell_type": "markdown",
   "id": "42f6f77e",
   "metadata": {},
   "source": []
  },
  {
   "cell_type": "markdown",
   "id": "168f78e2",
   "metadata": {},
   "source": [
    "Task 1: Bank Account System\n",
    " Create a BankAccount class with methods like deposit(),\n",
    " withdraw(), and check_balance()"
   ]
  },
  {
   "cell_type": "code",
   "execution_count": 14,
   "id": "a03523b9",
   "metadata": {},
   "outputs": [
    {
     "name": "stdout",
     "output_type": "stream",
     "text": [
      "your balance is :1999\n",
      "your balance is :2699\n"
     ]
    }
   ],
   "source": [
    "class BankAccount:\n",
    "    def __init__(self,account_houlder,balance=0):\n",
    "\n",
    "        self.account_houlder=account_houlder\n",
    "        self.balance=balance\n",
    "    def deposit(self,amount):\n",
    "        if amount <0:\n",
    "            print(\"amount must be Positive\")\n",
    "        else:\n",
    "            self.balance +=amount\n",
    "    def with_draw(self,amount):\n",
    "        if amount < 0:\n",
    "            print(\"amount must be positive\")\n",
    "        elif amount > self.balance:\n",
    "            print(\"Insufficent Balanace\")\n",
    "        else:\n",
    "            self.balance -=amount\n",
    "    def check_balance(self):\n",
    "        print(f\"your balance is :{self.balance}\")\n",
    "    \n",
    "customer1=BankAccount(\"zeeshan\",1999)\n",
    "customer1.check_balance()\n",
    "customer1.deposit(1000)\n",
    "customer1.with_draw(300)\n",
    "customer1.check_balance()\n"
   ]
  },
  {
   "cell_type": "markdown",
   "id": "ae77f9a5",
   "metadata": {},
   "source": []
  },
  {
   "cell_type": "markdown",
   "metadata": {},
   "source": [
    " Task 3: Student Report Card\n",
    " Create a Student class with attributes like name, roll_no,\n",
    " and marks. Add methods to calculate average and grade"
   ]
  },
  {
   "cell_type": "code",
   "execution_count": 16,
   "id": "db9ae3e5",
   "metadata": {},
   "outputs": [
    {
     "name": "stdout",
     "output_type": "stream",
     "text": [
      "Grade D\n",
      "None\n",
      "Average Marks : 60.33\n"
     ]
    }
   ],
   "source": [
    "class Student:\n",
    "    def __init__(self,name,roll_no,math,computer,physics):\n",
    "        self.name=name\n",
    "        self.roll_no=roll_no\n",
    "        self.math=math\n",
    "        self.computer=computer\n",
    "        self.physics=physics\n",
    "    def calculate_average(self):\n",
    "        average=(self.math + self.computer + self.physics)/3\n",
    "        return average\n",
    "    def gradeCalculator(self):\n",
    "        obtained=(self.math + self.computer + self.physics)  \n",
    "        totalMarks=300\n",
    "        percentage=(obtained/totalMarks)*100\n",
    "        if percentage > 90:\n",
    "            print(\"Grade A\")\n",
    "        if percentage > 80 and percentage <=90:\n",
    "            print(\"Grade B\")\n",
    "        if percentage > 70 and percentage <=80:\n",
    "            print(\"Grade C\")\n",
    "        if percentage > 60 and percentage <=70:\n",
    "            print(\"Grade D\")\n",
    "        if percentage > 50 and percentage <=60:\n",
    "            print(\"Grade E\")\n",
    "        if percentage > 40 and percentage <=50:\n",
    "            print(\"Grade f\")\n",
    "        \n",
    "\n",
    "        \n",
    "    \n",
    "    \n",
    "student1=Student(\"zeshan\",1,70,71,40)\n",
    "AverageMarks=student1.calculate_average()\n",
    "\n",
    "average=round(AverageMarks,2)\n",
    "print(student1.gradeCalculator())\n",
    "print(\"Average Marks :\",average)\n"
   ]
  }
 ],
 "metadata": {
  "kernelspec": {
   "display_name": "Python 3",
   "language": "python",
   "name": "python3"
  },
  "language_info": {
   "codemirror_mode": {
    "name": "ipython",
    "version": 3
   },
   "file_extension": ".py",
   "mimetype": "text/x-python",
   "name": "python",
   "nbconvert_exporter": "python",
   "pygments_lexer": "ipython3",
   "version": "3.11.9"
  }
 },
 "nbformat": 4,
 "nbformat_minor": 5
}
