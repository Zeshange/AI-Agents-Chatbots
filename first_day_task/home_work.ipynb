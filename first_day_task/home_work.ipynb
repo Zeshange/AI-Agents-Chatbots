{
 "cells": [
  {
   "cell_type": "markdown",
   "id": "f4e84c03",
   "metadata": {},
   "source": [
    "Task 1:"
   ]
  },
  {
   "cell_type": "markdown",
   "id": "e177227b",
   "metadata": {},
   "source": [
    "Age Category Checker \n",
    "Create a variable age.\n",
    " Print whether the person is Child, Teenager, Adult, or Senior\n",
    " Citizen using conditions"
   ]
  },
  {
   "cell_type": "code",
   "execution_count": 2,
   "id": "0c293d24",
   "metadata": {},
   "outputs": [
    {
     "name": "stdout",
     "output_type": "stream",
     "text": [
      "Person is Adult\n"
     ]
    }
   ],
   "source": [
    "age=20\n",
    "\n",
    "if age >= 1 and age < 13:\n",
    "    print(\"person is Child\")\n",
    "elif age >= 13 and age <= 19:\n",
    "    print(\"Person is Teenager\")\n",
    "elif age >=20 and age <=59:\n",
    "    print(\"Person is Adult\")\n",
    "elif age >=60:\n",
    "    print(\"Person is Senior Citizen\")\n",
    "else:\n",
    "    print(\"Invalid age\")\n"
   ]
  },
  {
   "cell_type": "markdown",
   "id": "f260939a",
   "metadata": {},
   "source": [
    "Task 2:"
   ]
  },
  {
   "cell_type": "markdown",
   "id": "bb65c583",
   "metadata": {},
   "source": [
    " \n",
    "Highest Marks Finder \n",
    "Given marks of three students. \n",
    "Print which student has the highest marks."
   ]
  },
  {
   "cell_type": "code",
   "execution_count": 3,
   "id": "4a8999c0",
   "metadata": {},
   "outputs": [
    {
     "name": "stdout",
     "output_type": "stream",
     "text": [
      "Student 3 has the Higest Marks\n"
     ]
    }
   ],
   "source": [
    "student_1=1000\n",
    "student_2=1100\n",
    "student_3=1200\n",
    "\n",
    "if student_1 > student_2 and student_1 >student_3:\n",
    "    print(\"Student 1 has the Higest Marks\")\n",
    "elif student_2 > student_1 and student_2 > student_3:\n",
    "    print(\"Student 2 has the Higest Marks\")\n",
    "else:\n",
    "    print(\"Student 3 has the Higest Marks\")"
   ]
  },
  {
   "cell_type": "markdown",
   "id": "325f7a54",
   "metadata": {},
   "source": [
    "Task 3:"
   ]
  },
  {
   "cell_type": "markdown",
   "id": "4b0a13b8",
   "metadata": {},
   "source": [
    "Leap Year Checker \n",
    "What is a Leap Year?  A leap year has 366 days (February has 29\n",
    " days) instead of 365.\n",
    " It happens to keep our calendar year in sync with the Earth's orbit\n",
    " around the Sun. "
   ]
  },
  {
   "cell_type": "markdown",
   "id": "9f2b5ad6",
   "metadata": {},
   "source": [
    "Formula:  A year is a leap year if:\n",
    " 1) Divisible by 4 and NOT divisible by 100 OR\n",
    " 2) Divisible by 400\n",
    " Given a year. Check if it is a leap year using correct\n",
    " logical conditions"
   ]
  },
  {
   "cell_type": "code",
   "execution_count": 4,
   "id": "151fad27",
   "metadata": {},
   "outputs": [
    {
     "name": "stdout",
     "output_type": "stream",
     "text": [
      "2000 is leap year\n"
     ]
    }
   ],
   "source": [
    "year=2000\n",
    "\n",
    "if year % 400 == 0:\n",
    "    print(year,\"is leap year\")\n",
    "else:\n",
    "    print(year,\"is not a leap year\")"
   ]
  },
  {
   "cell_type": "markdown",
   "id": "ba483092",
   "metadata": {},
   "source": [
    "Task 4:"
   ]
  },
  {
   "cell_type": "markdown",
   "id": "0654e77e",
   "metadata": {},
   "source": [
    "Discount Price Calculator \n",
    "Given a product price.\n",
    " Apply 10% discount if price > 1000, 5% if > 500, otherwise no\n",
    " discount. \n",
    "Print final price."
   ]
  },
  {
   "cell_type": "code",
   "execution_count": 5,
   "id": "01a14155",
   "metadata": {},
   "outputs": [
    {
     "name": "stdout",
     "output_type": "stream",
     "text": [
      "original Amount : RS 4000\n",
      "discount is :  RS 400.0\n",
      "----------------------------\n",
      "total payable : RS 3600.0\n",
      "----------------------------\n"
     ]
    }
   ],
   "source": [
    "price=4000\n",
    "discount=0\n",
    "\n",
    "if price >= 500 and price <1000:\n",
    "    amount=price * (5/100)\n",
    "    discount=price-amount\n",
    "    print(\"original Amount :\",\"RS\",price)\n",
    "    print(\"discount is : \",\"RS\",amount,)\n",
    "    print(\"----------------------------\")\n",
    "    print(\"total payable :\",\"RS\",discount)\n",
    "    print(\"----------------------------\")\n",
    "elif price >1000:\n",
    "    amount=price * (10/100)\n",
    "    discount=price-amount\n",
    "    print(\"original Amount :\",\"RS\",price)\n",
    "    print(\"discount is : \",\"RS\",amount,)\n",
    "    print(\"----------------------------\")\n",
    "    print(\"total payable :\",\"RS\",discount)\n",
    "    print(\"----------------------------\")\n",
    "else:\n",
    "   \n",
    "    \n",
    "    print(\"original Amount :\",\"RS\",price)\n",
    "    print(\"No Discount Available \")\n",
    "    print(\"----------------------------\")\n",
    "    print(\"total payable :\",\"RS\",price)\n",
    "    print(\"----------------------------\")\n",
    "\n"
   ]
  },
  {
   "cell_type": "markdown",
   "id": "a9551226",
   "metadata": {},
   "source": [
    "Task 5:"
   ]
  },
  {
   "cell_type": "markdown",
   "id": "6d0fde25",
   "metadata": {},
   "source": [
    " Even Sum Checker\n",
    " Take three numbers.\n",
    " Find their sum and check if the sum is even or odd"
   ]
  },
  {
   "cell_type": "code",
   "execution_count": 6,
   "id": "d0b51bb1",
   "metadata": {},
   "outputs": [
    {
     "name": "stdout",
     "output_type": "stream",
     "text": [
      "9\n",
      "sum is odd\n"
     ]
    }
   ],
   "source": [
    "num_1=3\n",
    "num_2=3\n",
    "num_3=3\n",
    "\n",
    "sum=num_1 + num_2 + num_3\n",
    "print(sum)\n",
    "\n",
    "if sum % 2 ==0:\n",
    "    print(\"sum is even\")\n",
    "else:\n",
    "    print(\"sum is odd\")"
   ]
  }
 ],
 "metadata": {
  "kernelspec": {
   "display_name": "Python 3",
   "language": "python",
   "name": "python3"
  },
  "language_info": {
   "codemirror_mode": {
    "name": "ipython",
    "version": 3
   },
   "file_extension": ".py",
   "mimetype": "text/x-python",
   "name": "python",
   "nbconvert_exporter": "python",
   "pygments_lexer": "ipython3",
   "version": "3.11.9"
  }
 },
 "nbformat": 4,
 "nbformat_minor": 5
}
