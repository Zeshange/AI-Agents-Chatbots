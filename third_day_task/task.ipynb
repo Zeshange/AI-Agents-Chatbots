{
 "cells": [
  {
   "cell_type": "markdown",
   "id": "fa159e3a",
   "metadata": {},
   "source": [
    "Task 1:\n",
    "Find the largest and smallest number in a list"
   ]
  },
  {
   "cell_type": "code",
   "execution_count": 4,
   "id": "f5852171",
   "metadata": {},
   "outputs": [
    {
     "name": "stdout",
     "output_type": "stream",
     "text": [
      "smallest number in the list is:  30\n",
      "largest number in the list is:  500\n"
     ]
    }
   ],
   "source": [
    "numbers=[120,130,400,300,156,30,500]\n",
    "smalestNumber=min(numbers)\n",
    "largestNumber=max(numbers)\n",
    "print(\"smallest number in the list is: \",smalestNumber)\n",
    "print(\"largest number in the list is: \",largestNumber)"
   ]
  },
  {
   "cell_type": "markdown",
   "id": "03337e14",
   "metadata": {},
   "source": []
  },
  {
   "cell_type": "markdown",
   "id": "8dbc74c2",
   "metadata": {},
   "source": [
    "Task 2:\n",
    "Reverse a list without using the reverse() method"
   ]
  },
  {
   "cell_type": "code",
   "execution_count": 8,
   "id": "8d5c4814",
   "metadata": {},
   "outputs": [
    {
     "name": "stdout",
     "output_type": "stream",
     "text": [
      "original list [1, 2, 3, 4, 5]\n",
      "reverse list [5, 4, 3, 2, 1]\n"
     ]
    }
   ],
   "source": [
    "list=[1,2,3,4,5]\n",
    "print(\"original list\",list)\n",
    "reverse_list=[]\n",
    "for i in list:\n",
    "   reverse_list.insert(0,i)\n",
    "print(\"reverse list\",reverse_list)"
   ]
  },
  {
   "cell_type": "markdown",
   "id": "33220b82",
   "metadata": {},
   "source": []
  },
  {
   "cell_type": "markdown",
   "id": "d314d74f",
   "metadata": {},
   "source": [
    "Task 3:\n",
    "Swap the values of two tuples"
   ]
  },
  {
   "cell_type": "code",
   "execution_count": 19,
   "id": "f7fe0026",
   "metadata": {},
   "outputs": [
    {
     "name": "stdout",
     "output_type": "stream",
     "text": [
      "Tupple_one = ('Apple', 'Banana', 'orange')\n",
      "Tupple_ Two = ('Goat', 'Sheep', 'Camal')\n",
      "\n",
      "-----------------After swaping-------------------------\n",
      "\n",
      "Tupple_one = ('Goat', 'Sheep', 'Camal')\n",
      "Tupple_ Two = ('Apple', 'Banana', 'orange')\n"
     ]
    }
   ],
   "source": [
    "tupple_1=('Apple','Banana','orange')\n",
    "tupple_2=('Goat','Sheep','Camal')\n",
    "print(\"Tupple_one =\",tupple_1)\n",
    "print(\"Tupple_ Two =\",tupple_2)\n",
    "\n",
    "print('\\n-----------------After swaping-------------------------\\n')\n",
    "\n",
    "temp=tupple_1\n",
    "tupple_1=tupple_2\n",
    "tupple_2=temp\n",
    "\n",
    "print(\"Tupple_one =\",tupple_1)\n",
    "print(\"Tupple_ Two =\",tupple_2)\n"
   ]
  },
  {
   "cell_type": "markdown",
   "id": "e7d56c30",
   "metadata": {},
   "source": []
  },
  {
   "cell_type": "markdown",
   "metadata": {},
   "source": [
    "Task 4:\n",
    "Check if a given element exists in a tuple"
   ]
  },
  {
   "cell_type": "code",
   "execution_count": 26,
   "id": "da13161c",
   "metadata": {},
   "outputs": [
    {
     "name": "stdout",
     "output_type": "stream",
     "text": [
      "yes exist\n"
     ]
    }
   ],
   "source": [
    "tupple=(\"zeeshan\",\"Ahsan\",\"Imran\",\"rizwan\")\n",
    "name=input(\"please enter a number\")\n",
    "if name in tupple:\n",
    "    print('yes exist')\n",
    "else:\n",
    "    print('sorry not exist')"
   ]
  },
  {
   "cell_type": "markdown",
   "id": "5708a414",
   "metadata": {},
   "source": []
  },
  {
   "cell_type": "markdown",
   "id": "bded7be1",
   "metadata": {},
   "source": [
    "Task 5:\n",
    "Count the frequency of each word in a sentence using a\n",
    "dictionary"
   ]
  },
  {
   "cell_type": "code",
   "execution_count": 38,
   "id": "b4e5ca46",
   "metadata": {},
   "outputs": [
    {
     "name": "stdout",
     "output_type": "stream",
     "text": [
      "a : 1\n",
      "g : 1\n",
      "h : 1\n"
     ]
    }
   ],
   "source": [
    "sentence=input('please enter a sentence')\n",
    "sentence=sentence.lower()\n",
    "words=sentence.split()\n",
    "\n",
    "words_frequency={}\n",
    "for word in words:\n",
    "    if word in words_frequency:\n",
    "        words_frequency[word] +=1\n",
    "    else:\n",
    "        words_frequency[word]=1\n",
    "# print(words_frequency)\n",
    "\n",
    "for key,value in words_frequency.items():\n",
    "    print(key,\":\", value)"
   ]
  },
  {
   "cell_type": "markdown",
   "id": "92ca42c9",
   "metadata": {},
   "source": [
    "Task 6:\n",
    "Merge two dictionaries into one"
   ]
  },
  {
   "cell_type": "code",
   "execution_count": 40,
   "id": "5e814b03",
   "metadata": {},
   "outputs": [
    {
     "name": "stdout",
     "output_type": "stream",
     "text": [
      "{'name': 'zeeshan', 'age': 27, 'education': 'MA', 'maritalStatus': 'married'}\n"
     ]
    }
   ],
   "source": [
    "dict_1={\"name\":\"zeeshan\",\"age\":27}\n",
    "dict_2={\"education\":\"MA\",\"maritalStatus\":\"married\"}\n",
    "dict_1.update(dict_2)\n",
    "print(dict_1)"
   ]
  }
 ],
 "metadata": {
  "kernelspec": {
   "display_name": "Python 3",
   "language": "python",
   "name": "python3"
  },
  "language_info": {
   "codemirror_mode": {
    "name": "ipython",
    "version": 3
   },
   "file_extension": ".py",
   "mimetype": "text/x-python",
   "name": "python",
   "nbconvert_exporter": "python",
   "pygments_lexer": "ipython3",
   "version": "3.11.9"
  }
 },
 "nbformat": 4,
 "nbformat_minor": 5
}
