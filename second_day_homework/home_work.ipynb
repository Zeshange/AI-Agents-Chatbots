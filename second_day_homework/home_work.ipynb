{
 "cells": [
  {
   "cell_type": "markdown",
   "id": "42252f92",
   "metadata": {},
   "source": [
    "A) Loops + Logical Operators (8 Tasks)"
   ]
  },
  {
   "cell_type": "markdown",
   "id": "188fdd6c",
   "metadata": {},
   "source": [
    "1) Even & Odd Counter:"
   ]
  },
  {
   "cell_type": "markdown",
   "id": "97213d2d",
   "metadata": {},
   "source": [
    "Write a program using a for loop to print all even and\n",
    "odd numbers between 1 to 50"
   ]
  },
  {
   "cell_type": "code",
   "execution_count": 1,
   "id": "3ced3fb2",
   "metadata": {},
   "outputs": [
    {
     "name": "stdout",
     "output_type": "stream",
     "text": [
      "List of Even Numbers [2, 4, 6, 8, 10, 12, 14, 16, 18, 20, 22, 24, 26, 28, 30, 32, 34, 36, 38, 40, 42, 44, 46, 48]\n",
      "List of Odd Numbers [1, 3, 5, 7, 9, 11, 13, 15, 17, 19, 21, 23, 25, 27, 29, 31, 33, 35, 37, 39, 41, 43, 45, 47, 49]\n"
     ]
    }
   ],
   "source": [
    "Even = []\n",
    "Odd = []\n",
    "for i in range(1,50):\n",
    "    if i%2 ==0:\n",
    "       Even.append(i)\n",
    "    else:\n",
    "        Odd.append(i)\n",
    "print(\"List of Even Numbers\",Even)\n",
    "print(\"List of Odd Numbers\",Odd)"
   ]
  },
  {
   "cell_type": "markdown",
   "id": "00bb9601",
   "metadata": {},
   "source": [
    "2. Sum of Multiples:"
   ]
  },
  {
   "cell_type": "markdown",
   "id": "9f00bd4f",
   "metadata": {},
   "source": [
    "Find the sum of all numbers between 1 and 100 that are\n",
    "divisible by 3 OR 5"
   ]
  },
  {
   "cell_type": "markdown",
   "id": "ac1979a4",
   "metadata": {},
   "source": []
  },
  {
   "cell_type": "code",
   "execution_count": 2,
   "id": "1959addd",
   "metadata": {},
   "outputs": [
    {
     "name": "stdout",
     "output_type": "stream",
     "text": [
      "Sum 2318\n"
     ]
    }
   ],
   "source": [
    "total=0\n",
    "for i in range(1,100):\n",
    "    if i %3==0 or i %5==0:\n",
    "        total +=i\n",
    "print(\"Sum\",total)"
   ]
  },
  {
   "cell_type": "markdown",
   "id": "994e352a",
   "metadata": {},
   "source": []
  },
  {
   "cell_type": "markdown",
   "id": "6bf156e3",
   "metadata": {},
   "source": [
    "3. Prime Checker (Loop + Logical Operators):"
   ]
  },
  {
   "cell_type": "markdown",
   "id": "d05cec5a",
   "metadata": {},
   "source": [
    "Take a number and check if it is prime or not."
   ]
  },
  {
   "cell_type": "code",
   "execution_count": 4,
   "id": "aad31eff",
   "metadata": {},
   "outputs": [
    {
     "name": "stdout",
     "output_type": "stream",
     "text": [
      "Not a prime number\n"
     ]
    }
   ],
   "source": [
    "number = int(input(\"Please enter a number: \"))\n",
    "\n",
    "if number > 1:\n",
    "    for i in range(2, number):\n",
    "        if number % i == 0:\n",
    "            print(\"Not a prime number\")\n",
    "            break\n",
    "    else:  \n",
    "        print(\"This is a prime number\")\n",
    "else:\n",
    "    print(\"Not a prime number\")\n"
   ]
  },
  {
   "cell_type": "markdown",
   "id": "e92b1de1",
   "metadata": {},
   "source": []
  },
  {
   "cell_type": "markdown",
   "id": "43b9f29b",
   "metadata": {},
   "source": [
    "4. Multiplication Table Generator:"
   ]
  },
  {
   "cell_type": "markdown",
   "id": "0e90a29e",
   "metadata": {},
   "source": [
    "Take a number as input and print its multiplication\n",
    "table from 1 to 10"
   ]
  },
  {
   "cell_type": "code",
   "execution_count": null,
   "id": "4fd03c5e",
   "metadata": {},
   "outputs": [
    {
     "name": "stdout",
     "output_type": "stream",
     "text": [
      "1*9=9\n",
      "2*9=18\n",
      "3*9=27\n",
      "4*9=36\n",
      "5*9=45\n",
      "6*9=54\n",
      "7*9=63\n",
      "8*9=72\n",
      "9*9=81\n",
      "10*9=90\n"
     ]
    }
   ],
   "source": [
    "number=int(input(\"please enter a number\"))\n",
    "\n",
    "for i in range(1,11):\n",
    "    print(f\"{i}*{number}={i*number}\")"
   ]
  },
  {
   "cell_type": "markdown",
   "id": "8379bed2",
   "metadata": {},
   "source": []
  },
  {
   "cell_type": "markdown",
   "metadata": {},
   "source": [
    "5. Reverse Number:"
   ]
  },
  {
   "cell_type": "markdown",
   "id": "5b154594",
   "metadata": {},
   "source": [
    "Take an integer and print its digits in reverse order\n",
    "using a while loop"
   ]
  },
  {
   "cell_type": "code",
   "execution_count": null,
   "id": "347963d7",
   "metadata": {},
   "outputs": [
    {
     "name": "stdout",
     "output_type": "stream",
     "text": [
      "Reversed number: 421\n"
     ]
    }
   ],
   "source": [
    "num = int(input(\"Enter an integer: \"))\n",
    "reverse = 0\n",
    "\n",
    "while num != 0:\n",
    "    digit = num % 10        # Get the last digit\n",
    "    reverse = reverse * 10 + digit  # Add it to reverse\n",
    "    num //= 10              # Remove the last digit\n",
    "\n",
    "print(\"Reversed number:\", reverse)\n"
   ]
  },
  {
   "cell_type": "markdown",
   "id": "d83e93db",
   "metadata": {},
   "source": [
    "6.FizzBuzz Logic:"
   ]
  },
  {
   "cell_type": "markdown",
   "id": "722cb72c",
   "metadata": {},
   "source": [
    "1. Print numbers 1 to 50, but\n",
    "2.Print Fizz if divisible by 3,\n",
    "3.Buzz if divisible by 5,\n",
    "4.FizzBuzz if divisible by both"
   ]
  },
  {
   "cell_type": "code",
   "execution_count": null,
   "id": "36790719",
   "metadata": {},
   "outputs": [
    {
     "name": "stdout",
     "output_type": "stream",
     "text": [
      "3 Fizz\n",
      "5 Buzz\n",
      "6 Fizz\n",
      "9 Fizz\n",
      "10 Buzz\n",
      "12 Fizz\n",
      "15 FizzBuzz\n",
      "18 Fizz\n",
      "20 Buzz\n",
      "21 Fizz\n",
      "24 Fizz\n",
      "25 Buzz\n",
      "27 Fizz\n",
      "30 FizzBuzz\n",
      "33 Fizz\n",
      "35 Buzz\n",
      "36 Fizz\n",
      "39 Fizz\n",
      "40 Buzz\n",
      "42 Fizz\n",
      "45 FizzBuzz\n",
      "48 Fizz\n",
      "50 Buzz\n"
     ]
    }
   ],
   "source": [
    "for i in range(1,51):\n",
    "    if i % 5==0 and i % 3==0:\n",
    "        print(i,\"FizzBuzz\")\n",
    "    elif i % 3 ==0:\n",
    "        print(i,\"Fizz\")\n",
    "    elif i % 5==0:\n",
    "        print(i,\"Buzz\")\n",
    "    "
   ]
  },
  {
   "cell_type": "markdown",
   "id": "022c337a",
   "metadata": {},
   "source": []
  },
  {
   "cell_type": "markdown",
   "id": "95724cba",
   "metadata": {},
   "source": [
    "\n",
    "Count Vowels and Consonan"
   ]
  },
  {
   "cell_type": "markdown",
   "id": "ef21de20",
   "metadata": {},
   "source": [
    "input a string and count vowels and consonant using loop and logical operator"
   ]
  },
  {
   "cell_type": "code",
   "execution_count": null,
   "id": "03b09ff9",
   "metadata": {},
   "outputs": [],
   "source": []
  },
  {
   "cell_type": "code",
   "execution_count": null,
   "id": "9f8982cb",
   "metadata": {},
   "outputs": [
    {
     "name": "stdout",
     "output_type": "stream",
     "text": [
      "zeeshan\n",
      "vowels : 3 ['e', 'e', 'a']\n",
      "consonant : 4 ['z', 's', 'h', 'n']\n"
     ]
    }
   ],
   "source": [
    "vowels=[]\n",
    "consonant=[]\n",
    "string=input(\"please input a string\")\n",
    "print(string)\n",
    "for i in string:\n",
    "    if i=='a' or i=='e' or i=='i' or i=='o' or i=='u':\n",
    "        vowels.append(i)\n",
    "    else:\n",
    "        consonant.append(i)\n",
    "\n",
    "print(\"vowels :\",len(vowels),vowels)\n",
    "print(\"consonant :\",len(consonant),consonant)\n",
    "\n",
    "    "
   ]
  },
  {
   "cell_type": "markdown",
   "id": "9d4a93d4",
   "metadata": {},
   "source": []
  },
  {
   "cell_type": "markdown",
   "id": "8bef67cd",
   "metadata": {},
   "source": [
    " Input a string and count vowels and consonants using\n",
    "a loop and logical conditions.\n",
    "Palindrome Check (Logical & Loop):\n",
    " Take a string and check if it reads the same backward\n",
    "(like “madam”).\n"
   ]
  },
  {
   "cell_type": "code",
   "execution_count": null,
   "id": "805c4015",
   "metadata": {},
   "outputs": [
    {
     "name": "stdout",
     "output_type": "stream",
     "text": [
      "not palandrom number\n"
     ]
    }
   ],
   "source": [
    "string=input(\"please enter a string\")\n",
    "reverse=''\n",
    "for char in string:\n",
    "    leters=char\n",
    "    reverse=leters + reverse\n",
    "if reverse == string:\n",
    "    print(\"Palandrom number\")\n",
    "else:\n",
    "    print(\"not palandrom number\")"
   ]
  },
  {
   "cell_type": "markdown",
   "id": "494d2474",
   "metadata": {},
   "source": [
    "B) Loops + Functions (6 Tasks)\n"
   ]
  },
  {
   "cell_type": "markdown",
   "id": "417b5b64",
   "metadata": {},
   "source": [
    "Find Maximum in List:\n",
    " Create a function find_max(lst) that returns the\n",
    "largest number in a list."
   ]
  },
  {
   "cell_type": "code",
   "execution_count": null,
   "id": "2c5ded85",
   "metadata": {},
   "outputs": [
    {
     "name": "stdout",
     "output_type": "stream",
     "text": [
      "9\n"
     ]
    }
   ],
   "source": [
    "def find_max(list):\n",
    "    maximum=list[0]\n",
    "    for i in range(1,len(list)):\n",
    "        if list[i] >maximum:\n",
    "            maximum=list[i]\n",
    "    print(maximum)\n",
    "\n",
    "\n",
    "find_max([1,2,3,4,5,9])\n"
   ]
  },
  {
   "cell_type": "markdown",
   "id": "48597eda",
   "metadata": {},
   "source": []
  },
  {
   "cell_type": "markdown",
   "id": "29bbbbe1",
   "metadata": {},
   "source": [
    "Factorial Function:\n",
    " Write a function factorial(n) that returns the\n",
    "factorial of a number using a loop."
   ]
  },
  {
   "cell_type": "code",
   "execution_count": null,
   "id": "e382bfca",
   "metadata": {},
   "outputs": [
    {
     "name": "stdout",
     "output_type": "stream",
     "text": [
      "120\n"
     ]
    }
   ],
   "source": [
    "num=int(input(\"Please enter a number\"))\n",
    "factorial=1\n",
    "\n",
    "if num < 0:\n",
    "    print(\"No factorial exist for negative\")\n",
    "elif num == 0:\n",
    "    print(\"factorial is 1\")\n",
    "else:\n",
    "    for i in range(1,num+1):\n",
    "        factorial *=i\n",
    "print(factorial)"
   ]
  },
  {
   "cell_type": "markdown",
   "id": "46c0a54e",
   "metadata": {},
   "source": []
  },
  {
   "cell_type": "markdown",
   "id": "a9156d14",
   "metadata": {},
   "source": [
    "Sum of Digits Function:\n",
    " Create a function that takes a number and\n",
    "returns the sum of its digits."
   ]
  },
  {
   "cell_type": "code",
   "execution_count": null,
   "id": "32883264",
   "metadata": {},
   "outputs": [
    {
     "name": "stdout",
     "output_type": "stream",
     "text": [
      "10\n"
     ]
    }
   ],
   "source": [
    "num=int(input(\"please enter a number\"))\n",
    "digit=0\n",
    "\n",
    "while num !=0:\n",
    "   digit += num%10\n",
    "   num //=10\n",
    "\n",
    "print(digit)\n"
   ]
  },
  {
   "cell_type": "markdown",
   "id": "514cced4",
   "metadata": {},
   "source": []
  },
  {
   "cell_type": "markdown",
   "id": "0345ebf5",
   "metadata": {},
   "source": [
    "Password Strength Checker:"
   ]
  },
  {
   "cell_type": "markdown",
   "id": "99c58dfe",
   "metadata": {},
   "source": [
    "1. Write a function that takes a password string and\n",
    "returns True if:\n",
    "2.Length ≥ 8,\n",
    "3.Contains letters and digits,\n",
    "4.Contains at least one special character (@,#,$\n",
    "etc.)"
   ]
  },
  {
   "cell_type": "code",
   "execution_count": null,
   "id": "b3d22a3c",
   "metadata": {},
   "outputs": [
    {
     "name": "stdout",
     "output_type": "stream",
     "text": [
      "Password contains a letter\n",
      "Password contains a digit\n",
      "Password contains a special character\n",
      "Password is strong!\n"
     ]
    }
   ],
   "source": [
    "password=input(\"please enter a password\")\n",
    "def password_checker(password):\n",
    "    isAlpha = False\n",
    "    isDigit = False\n",
    "    isSpecialCharacter = False\n",
    "    specialCharacters = \"!@#$%^&*_\"\n",
    "\n",
    "    if len(password) < 8:\n",
    "        print(\"Password must be at least 8 characters long\")\n",
    "        return  \n",
    "\n",
    "    for char in password:\n",
    "        if char.isalpha():\n",
    "            isAlpha = True\n",
    "        elif char.isdigit():\n",
    "            isDigit = True\n",
    "        elif char in specialCharacters:\n",
    "            isSpecialCharacter = True\n",
    "\n",
    "    if isAlpha:\n",
    "        print(\"Password contains a letter\")\n",
    "    if isDigit:\n",
    "        print(\"Password contains a digit\")\n",
    "    if isSpecialCharacter:\n",
    "        print(\"Password contains a special character\")\n",
    "\n",
    "    if isAlpha and isDigit and isSpecialCharacter:\n",
    "        print(\"Password is strong!\")\n",
    "    else:\n",
    "        print(\"Password is weak, missing one or more requirements.\")\n",
    "        print(\"password must contain Digits Letters and Special Characters\")\n",
    "\n",
    "\n",
    "password_checker(password)\n"
   ]
  },
  {
   "cell_type": "markdown",
   "id": "88ff84a1",
   "metadata": {},
   "source": []
  },
  {
   "cell_type": "markdown",
   "id": "5e8c6d1b",
   "metadata": {},
   "source": []
  },
  {
   "cell_type": "markdown",
   "id": "35021023",
   "metadata": {},
   "source": [
    "Check Armstrong Number:"
   ]
  },
  {
   "cell_type": "markdown",
   "id": "971ddbf0",
   "metadata": {},
   "source": [
    "Write a function to check if a number is an\n",
    "Armstrong number (e.g., 153 → 1³ + 5³ + 3³ = 153)"
   ]
  },
  {
   "cell_type": "code",
   "execution_count": null,
   "id": "b5f33edf",
   "metadata": {},
   "outputs": [
    {
     "name": "stdout",
     "output_type": "stream",
     "text": [
      "234 is not a palandrom number\n"
     ]
    }
   ],
   "source": [
    "number=input(\"please enter a number\")\n",
    "\n",
    "power=len(number)\n",
    "total=0\n",
    "for char in number:\n",
    "    total += int(char)**3\n",
    "if total == int(number):\n",
    "    print(number,\"is palandrom number\")\n",
    "else:\n",
    "    print(number,\"is not a palandrom number\")"
   ]
  },
  {
   "cell_type": "markdown",
   "id": "6da86b52",
   "metadata": {},
   "source": []
  },
  {
   "cell_type": "markdown",
   "id": "4e8e239c",
   "metadata": {},
   "source": [
    "Write a function fibonacci(n) that prints the first n\n",
    "Fibonacci numbers using a loop."
   ]
  },
  {
   "cell_type": "code",
   "execution_count": null,
   "metadata": {},
   "outputs": [
    {
     "name": "stdout",
     "output_type": "stream",
     "text": [
      "0\n",
      "1\n",
      "1\n",
      "2\n",
      "3\n",
      "5\n",
      "8\n",
      "13\n",
      "21\n",
      "34\n"
     ]
    }
   ],
   "source": [
    "def fibonacci(n):\n",
    "    a=0\n",
    "    b=1  \n",
    "    for i in range(n):\n",
    "        print(a) \n",
    "        a, b = b, a + b \n",
    "         \n",
    "\n",
    "\n",
    "fibonacci(10)"
   ]
  }
 ],
 "metadata": {
  "kernelspec": {
   "display_name": "Python 3",
   "language": "python",
   "name": "python3"
  },
  "language_info": {
   "codemirror_mode": {
    "name": "ipython",
    "version": 3
   },
   "file_extension": ".py",
   "mimetype": "text/x-python",
   "name": "python",
   "nbconvert_exporter": "python",
   "pygments_lexer": "ipython3",
   "version": "3.11.9"
  }
 },
 "nbformat": 4,
 "nbformat_minor": 5
}
